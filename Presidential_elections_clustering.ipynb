{
 "cells": [
  {
   "attachments": {},
   "cell_type": "markdown",
   "metadata": {},
   "source": [
    "# Model based clustering :  French Presidential election 2022 / 1st round (regional scale)"
   ]
  },
  {
   "cell_type": "code",
   "execution_count": 3,
   "metadata": {},
   "outputs": [],
   "source": [
    "import numpy as np\n",
    "import matplotlib.pyplot as plt\n",
    "import matplotlib.colors as mcolors\n",
    "import pandas as pd\n",
    "import plotly.express as px\n",
    "import geopandas as gpd\n"
   ]
  },
  {
   "attachments": {},
   "cell_type": "markdown",
   "metadata": {},
   "source": [
    "# 1. Data \n",
    "## 1.1 Loading the data"
   ]
  },
  {
   "cell_type": "code",
   "execution_count": 178,
   "metadata": {},
   "outputs": [
    {
     "data": {
      "text/plain": [
       "Index(['Code de la région', 'Libellé de la région', 'Etat saisie', 'Inscrits',\n",
       "       'Abstentions', '% Abs/Ins', 'Votants', '% Vot/Ins', 'Blancs',\n",
       "       '% Blancs/Ins', '% Blancs/Vot', 'Nuls', '% Nuls/Ins', '% Nuls/Vot',\n",
       "       'Exprimés', '% Exp/Ins', '% Exp/Vot', 'Sexe', 'Nom', 'Prénom', 'Voix',\n",
       "       '% Voix/Ins', '% Voix/Exp', 'Unnamed: 23', 'Unnamed: 24', 'Unnamed: 25',\n",
       "       'Unnamed: 26', 'Unnamed: 27', 'Unnamed: 28', 'Unnamed: 29',\n",
       "       'Unnamed: 30', 'Unnamed: 31', 'Unnamed: 32', 'Unnamed: 33',\n",
       "       'Unnamed: 34', 'Unnamed: 35', 'Unnamed: 36', 'Unnamed: 37',\n",
       "       'Unnamed: 38', 'Unnamed: 39', 'Unnamed: 40', 'Unnamed: 41',\n",
       "       'Unnamed: 42', 'Unnamed: 43', 'Unnamed: 44', 'Unnamed: 45',\n",
       "       'Unnamed: 46', 'Unnamed: 47', 'Unnamed: 48', 'Unnamed: 49',\n",
       "       'Unnamed: 50', 'Unnamed: 51', 'Unnamed: 52', 'Unnamed: 53',\n",
       "       'Unnamed: 54', 'Unnamed: 55', 'Unnamed: 56', 'Unnamed: 57',\n",
       "       'Unnamed: 58', 'Unnamed: 59', 'Unnamed: 60', 'Unnamed: 61',\n",
       "       'Unnamed: 62', 'Unnamed: 63', 'Unnamed: 64', 'Unnamed: 65',\n",
       "       'Unnamed: 66', 'Unnamed: 67', 'Unnamed: 68', 'Unnamed: 69',\n",
       "       'Unnamed: 70', 'Unnamed: 71', 'Unnamed: 72', 'Unnamed: 73',\n",
       "       'Unnamed: 74', 'Unnamed: 75', 'Unnamed: 76', 'Unnamed: 77',\n",
       "       'Unnamed: 78', 'Unnamed: 79', 'Unnamed: 80', 'Unnamed: 81',\n",
       "       'Unnamed: 82', 'Unnamed: 83', 'Unnamed: 84', 'Unnamed: 85',\n",
       "       'Unnamed: 86', 'Unnamed: 87', 'Unnamed: 88'],\n",
       "      dtype='object')"
      ]
     },
     "execution_count": 178,
     "metadata": {},
     "output_type": "execute_result"
    }
   ],
   "source": [
    "data = pd.read_excel('data/resultats-par-niveau-reg-t1-france-entiere.xlsx')\n",
    "columns = data.columns\n",
    "columns"
   ]
  },
  {
   "attachments": {},
   "cell_type": "markdown",
   "metadata": {},
   "source": [
    "## 1.2 Cleaning the data"
   ]
  },
  {
   "cell_type": "code",
   "execution_count": 179,
   "metadata": {},
   "outputs": [
    {
     "data": {
      "text/html": [
       "<div>\n",
       "<style scoped>\n",
       "    .dataframe tbody tr th:only-of-type {\n",
       "        vertical-align: middle;\n",
       "    }\n",
       "\n",
       "    .dataframe tbody tr th {\n",
       "        vertical-align: top;\n",
       "    }\n",
       "\n",
       "    .dataframe thead th {\n",
       "        text-align: right;\n",
       "    }\n",
       "</style>\n",
       "<table border=\"1\" class=\"dataframe\">\n",
       "  <thead>\n",
       "    <tr style=\"text-align: right;\">\n",
       "      <th></th>\n",
       "      <th>Code de la région</th>\n",
       "      <th>Libellé de la région</th>\n",
       "      <th>Etat saisie</th>\n",
       "      <th>Inscrits</th>\n",
       "      <th>Abstentions</th>\n",
       "      <th>% Abs/Ins</th>\n",
       "      <th>Votants</th>\n",
       "      <th>% Vot/Ins</th>\n",
       "      <th>Blancs</th>\n",
       "      <th>% Blancs/Ins</th>\n",
       "      <th>...</th>\n",
       "      <th>Prénom_poutou</th>\n",
       "      <th>Voix_poutou</th>\n",
       "      <th>%Voix/Ins_poutou</th>\n",
       "      <th>%Voix/Exp_poutou</th>\n",
       "      <th>Sexe_dupont_aignant</th>\n",
       "      <th>Nom_dupont_aignant</th>\n",
       "      <th>Prénom_dupont_aignant</th>\n",
       "      <th>Voix_dupont_aignant</th>\n",
       "      <th>%Voix/Ins_dupont_aignant</th>\n",
       "      <th>%Voix/Exp_dupont_aignant</th>\n",
       "    </tr>\n",
       "  </thead>\n",
       "  <tbody>\n",
       "    <tr>\n",
       "      <th>0</th>\n",
       "      <td>44</td>\n",
       "      <td>Grand Est</td>\n",
       "      <td>Complet</td>\n",
       "      <td>3862920</td>\n",
       "      <td>1008344</td>\n",
       "      <td>26.10</td>\n",
       "      <td>2854576</td>\n",
       "      <td>73.90</td>\n",
       "      <td>42255</td>\n",
       "      <td>1.09</td>\n",
       "      <td>...</td>\n",
       "      <td>Philippe</td>\n",
       "      <td>22241</td>\n",
       "      <td>0.58</td>\n",
       "      <td>0.80</td>\n",
       "      <td>M</td>\n",
       "      <td>DUPONT-AIGNAN</td>\n",
       "      <td>Nicolas</td>\n",
       "      <td>74916</td>\n",
       "      <td>1.94</td>\n",
       "      <td>2.68</td>\n",
       "    </tr>\n",
       "    <tr>\n",
       "      <th>1</th>\n",
       "      <td>75</td>\n",
       "      <td>Nouvelle-Aquitaine</td>\n",
       "      <td>Complet</td>\n",
       "      <td>4463041</td>\n",
       "      <td>962499</td>\n",
       "      <td>21.57</td>\n",
       "      <td>3500542</td>\n",
       "      <td>78.43</td>\n",
       "      <td>53440</td>\n",
       "      <td>1.20</td>\n",
       "      <td>...</td>\n",
       "      <td>Philippe</td>\n",
       "      <td>32597</td>\n",
       "      <td>0.73</td>\n",
       "      <td>0.95</td>\n",
       "      <td>M</td>\n",
       "      <td>DUPONT-AIGNAN</td>\n",
       "      <td>Nicolas</td>\n",
       "      <td>67645</td>\n",
       "      <td>1.52</td>\n",
       "      <td>1.98</td>\n",
       "    </tr>\n",
       "    <tr>\n",
       "      <th>2</th>\n",
       "      <td>84</td>\n",
       "      <td>Auvergne-Rhône-Alpes</td>\n",
       "      <td>Complet</td>\n",
       "      <td>5557535</td>\n",
       "      <td>1228490</td>\n",
       "      <td>22.10</td>\n",
       "      <td>4329045</td>\n",
       "      <td>77.90</td>\n",
       "      <td>70067</td>\n",
       "      <td>1.26</td>\n",
       "      <td>...</td>\n",
       "      <td>Philippe</td>\n",
       "      <td>30586</td>\n",
       "      <td>0.55</td>\n",
       "      <td>0.72</td>\n",
       "      <td>M</td>\n",
       "      <td>DUPONT-AIGNAN</td>\n",
       "      <td>Nicolas</td>\n",
       "      <td>98446</td>\n",
       "      <td>1.77</td>\n",
       "      <td>2.33</td>\n",
       "    </tr>\n",
       "    <tr>\n",
       "      <th>3</th>\n",
       "      <td>27</td>\n",
       "      <td>Bourgogne-Franche-Comté</td>\n",
       "      <td>Complet</td>\n",
       "      <td>1992409</td>\n",
       "      <td>456682</td>\n",
       "      <td>22.92</td>\n",
       "      <td>1535727</td>\n",
       "      <td>77.08</td>\n",
       "      <td>26392</td>\n",
       "      <td>1.32</td>\n",
       "      <td>...</td>\n",
       "      <td>Philippe</td>\n",
       "      <td>12738</td>\n",
       "      <td>0.64</td>\n",
       "      <td>0.85</td>\n",
       "      <td>M</td>\n",
       "      <td>DUPONT-AIGNAN</td>\n",
       "      <td>Nicolas</td>\n",
       "      <td>38691</td>\n",
       "      <td>1.94</td>\n",
       "      <td>2.58</td>\n",
       "    </tr>\n",
       "    <tr>\n",
       "      <th>4</th>\n",
       "      <td>53</td>\n",
       "      <td>Bretagne</td>\n",
       "      <td>Complet</td>\n",
       "      <td>2562061</td>\n",
       "      <td>543414</td>\n",
       "      <td>21.21</td>\n",
       "      <td>2018647</td>\n",
       "      <td>78.79</td>\n",
       "      <td>31884</td>\n",
       "      <td>1.24</td>\n",
       "      <td>...</td>\n",
       "      <td>Philippe</td>\n",
       "      <td>19913</td>\n",
       "      <td>0.78</td>\n",
       "      <td>1.01</td>\n",
       "      <td>M</td>\n",
       "      <td>DUPONT-AIGNAN</td>\n",
       "      <td>Nicolas</td>\n",
       "      <td>35116</td>\n",
       "      <td>1.37</td>\n",
       "      <td>1.78</td>\n",
       "    </tr>\n",
       "    <tr>\n",
       "      <th>5</th>\n",
       "      <td>24</td>\n",
       "      <td>Centre-Val de Loire</td>\n",
       "      <td>Complet</td>\n",
       "      <td>1837328</td>\n",
       "      <td>459528</td>\n",
       "      <td>25.01</td>\n",
       "      <td>1377800</td>\n",
       "      <td>74.99</td>\n",
       "      <td>23216</td>\n",
       "      <td>1.26</td>\n",
       "      <td>...</td>\n",
       "      <td>Philippe</td>\n",
       "      <td>11226</td>\n",
       "      <td>0.61</td>\n",
       "      <td>0.83</td>\n",
       "      <td>M</td>\n",
       "      <td>DUPONT-AIGNAN</td>\n",
       "      <td>Nicolas</td>\n",
       "      <td>31759</td>\n",
       "      <td>1.73</td>\n",
       "      <td>2.36</td>\n",
       "    </tr>\n",
       "    <tr>\n",
       "      <th>6</th>\n",
       "      <td>11</td>\n",
       "      <td>Île-de-France</td>\n",
       "      <td>Complet</td>\n",
       "      <td>7349284</td>\n",
       "      <td>1760727</td>\n",
       "      <td>23.96</td>\n",
       "      <td>5588557</td>\n",
       "      <td>76.04</td>\n",
       "      <td>76616</td>\n",
       "      <td>1.04</td>\n",
       "      <td>...</td>\n",
       "      <td>Philippe</td>\n",
       "      <td>33050</td>\n",
       "      <td>0.45</td>\n",
       "      <td>0.60</td>\n",
       "      <td>M</td>\n",
       "      <td>DUPONT-AIGNAN</td>\n",
       "      <td>Nicolas</td>\n",
       "      <td>87331</td>\n",
       "      <td>1.19</td>\n",
       "      <td>1.59</td>\n",
       "    </tr>\n",
       "    <tr>\n",
       "      <th>7</th>\n",
       "      <td>76</td>\n",
       "      <td>Occitanie</td>\n",
       "      <td>Complet</td>\n",
       "      <td>4323929</td>\n",
       "      <td>940541</td>\n",
       "      <td>21.75</td>\n",
       "      <td>3383388</td>\n",
       "      <td>78.25</td>\n",
       "      <td>47891</td>\n",
       "      <td>1.11</td>\n",
       "      <td>...</td>\n",
       "      <td>Philippe</td>\n",
       "      <td>23891</td>\n",
       "      <td>0.55</td>\n",
       "      <td>0.72</td>\n",
       "      <td>M</td>\n",
       "      <td>DUPONT-AIGNAN</td>\n",
       "      <td>Nicolas</td>\n",
       "      <td>63243</td>\n",
       "      <td>1.46</td>\n",
       "      <td>1.91</td>\n",
       "    </tr>\n",
       "    <tr>\n",
       "      <th>8</th>\n",
       "      <td>32</td>\n",
       "      <td>Hauts-de-France</td>\n",
       "      <td>Complet</td>\n",
       "      <td>4255350</td>\n",
       "      <td>1146209</td>\n",
       "      <td>26.94</td>\n",
       "      <td>3109141</td>\n",
       "      <td>73.06</td>\n",
       "      <td>42945</td>\n",
       "      <td>1.01</td>\n",
       "      <td>...</td>\n",
       "      <td>Philippe</td>\n",
       "      <td>21125</td>\n",
       "      <td>0.50</td>\n",
       "      <td>0.69</td>\n",
       "      <td>M</td>\n",
       "      <td>DUPONT-AIGNAN</td>\n",
       "      <td>Nicolas</td>\n",
       "      <td>55386</td>\n",
       "      <td>1.30</td>\n",
       "      <td>1.82</td>\n",
       "    </tr>\n",
       "    <tr>\n",
       "      <th>9</th>\n",
       "      <td>28</td>\n",
       "      <td>Normandie</td>\n",
       "      <td>Complet</td>\n",
       "      <td>2413749</td>\n",
       "      <td>590804</td>\n",
       "      <td>24.48</td>\n",
       "      <td>1822945</td>\n",
       "      <td>75.52</td>\n",
       "      <td>28947</td>\n",
       "      <td>1.20</td>\n",
       "      <td>...</td>\n",
       "      <td>Philippe</td>\n",
       "      <td>16005</td>\n",
       "      <td>0.66</td>\n",
       "      <td>0.90</td>\n",
       "      <td>M</td>\n",
       "      <td>DUPONT-AIGNAN</td>\n",
       "      <td>Nicolas</td>\n",
       "      <td>38560</td>\n",
       "      <td>1.60</td>\n",
       "      <td>2.16</td>\n",
       "    </tr>\n",
       "    <tr>\n",
       "      <th>10</th>\n",
       "      <td>52</td>\n",
       "      <td>Pays de la Loire</td>\n",
       "      <td>Complet</td>\n",
       "      <td>2832949</td>\n",
       "      <td>652018</td>\n",
       "      <td>23.02</td>\n",
       "      <td>2180931</td>\n",
       "      <td>76.98</td>\n",
       "      <td>38934</td>\n",
       "      <td>1.37</td>\n",
       "      <td>...</td>\n",
       "      <td>Philippe</td>\n",
       "      <td>18441</td>\n",
       "      <td>0.65</td>\n",
       "      <td>0.87</td>\n",
       "      <td>M</td>\n",
       "      <td>DUPONT-AIGNAN</td>\n",
       "      <td>Nicolas</td>\n",
       "      <td>44215</td>\n",
       "      <td>1.56</td>\n",
       "      <td>2.08</td>\n",
       "    </tr>\n",
       "    <tr>\n",
       "      <th>11</th>\n",
       "      <td>93</td>\n",
       "      <td>Provence-Alpes-Côte d'Azur</td>\n",
       "      <td>Complet</td>\n",
       "      <td>3663871</td>\n",
       "      <td>959575</td>\n",
       "      <td>26.19</td>\n",
       "      <td>2704296</td>\n",
       "      <td>73.81</td>\n",
       "      <td>35917</td>\n",
       "      <td>0.98</td>\n",
       "      <td>...</td>\n",
       "      <td>Philippe</td>\n",
       "      <td>16219</td>\n",
       "      <td>0.44</td>\n",
       "      <td>0.61</td>\n",
       "      <td>M</td>\n",
       "      <td>DUPONT-AIGNAN</td>\n",
       "      <td>Nicolas</td>\n",
       "      <td>60186</td>\n",
       "      <td>1.64</td>\n",
       "      <td>2.27</td>\n",
       "    </tr>\n",
       "    <tr>\n",
       "      <th>12</th>\n",
       "      <td>94</td>\n",
       "      <td>Corse</td>\n",
       "      <td>Complet</td>\n",
       "      <td>243032</td>\n",
       "      <td>90629</td>\n",
       "      <td>37.29</td>\n",
       "      <td>152403</td>\n",
       "      <td>62.71</td>\n",
       "      <td>2593</td>\n",
       "      <td>1.07</td>\n",
       "      <td>...</td>\n",
       "      <td>Philippe</td>\n",
       "      <td>1370</td>\n",
       "      <td>0.56</td>\n",
       "      <td>0.93</td>\n",
       "      <td>M</td>\n",
       "      <td>DUPONT-AIGNAN</td>\n",
       "      <td>Nicolas</td>\n",
       "      <td>2589</td>\n",
       "      <td>1.07</td>\n",
       "      <td>1.76</td>\n",
       "    </tr>\n",
       "    <tr>\n",
       "      <th>13</th>\n",
       "      <td>1</td>\n",
       "      <td>Guadeloupe</td>\n",
       "      <td>Complet</td>\n",
       "      <td>316023</td>\n",
       "      <td>174592</td>\n",
       "      <td>55.25</td>\n",
       "      <td>141431</td>\n",
       "      <td>44.75</td>\n",
       "      <td>2719</td>\n",
       "      <td>0.86</td>\n",
       "      <td>...</td>\n",
       "      <td>Philippe</td>\n",
       "      <td>713</td>\n",
       "      <td>0.23</td>\n",
       "      <td>0.53</td>\n",
       "      <td>M</td>\n",
       "      <td>DUPONT-AIGNAN</td>\n",
       "      <td>Nicolas</td>\n",
       "      <td>2114</td>\n",
       "      <td>0.67</td>\n",
       "      <td>1.56</td>\n",
       "    </tr>\n",
       "    <tr>\n",
       "      <th>14</th>\n",
       "      <td>2</td>\n",
       "      <td>Martinique</td>\n",
       "      <td>Complet</td>\n",
       "      <td>304594</td>\n",
       "      <td>174588</td>\n",
       "      <td>57.32</td>\n",
       "      <td>130006</td>\n",
       "      <td>42.68</td>\n",
       "      <td>4001</td>\n",
       "      <td>1.31</td>\n",
       "      <td>...</td>\n",
       "      <td>Philippe</td>\n",
       "      <td>977</td>\n",
       "      <td>0.32</td>\n",
       "      <td>0.79</td>\n",
       "      <td>M</td>\n",
       "      <td>DUPONT-AIGNAN</td>\n",
       "      <td>Nicolas</td>\n",
       "      <td>2989</td>\n",
       "      <td>0.98</td>\n",
       "      <td>2.43</td>\n",
       "    </tr>\n",
       "    <tr>\n",
       "      <th>15</th>\n",
       "      <td>3</td>\n",
       "      <td>Guyane</td>\n",
       "      <td>Complet</td>\n",
       "      <td>102993</td>\n",
       "      <td>65754</td>\n",
       "      <td>63.84</td>\n",
       "      <td>37239</td>\n",
       "      <td>36.16</td>\n",
       "      <td>825</td>\n",
       "      <td>0.80</td>\n",
       "      <td>...</td>\n",
       "      <td>Philippe</td>\n",
       "      <td>462</td>\n",
       "      <td>0.45</td>\n",
       "      <td>1.29</td>\n",
       "      <td>M</td>\n",
       "      <td>DUPONT-AIGNAN</td>\n",
       "      <td>Nicolas</td>\n",
       "      <td>717</td>\n",
       "      <td>0.70</td>\n",
       "      <td>2.00</td>\n",
       "    </tr>\n",
       "    <tr>\n",
       "      <th>16</th>\n",
       "      <td>4</td>\n",
       "      <td>La Réunion</td>\n",
       "      <td>Complet</td>\n",
       "      <td>675539</td>\n",
       "      <td>313159</td>\n",
       "      <td>46.36</td>\n",
       "      <td>362380</td>\n",
       "      <td>53.64</td>\n",
       "      <td>7361</td>\n",
       "      <td>1.09</td>\n",
       "      <td>...</td>\n",
       "      <td>Philippe</td>\n",
       "      <td>2705</td>\n",
       "      <td>0.40</td>\n",
       "      <td>0.78</td>\n",
       "      <td>M</td>\n",
       "      <td>DUPONT-AIGNAN</td>\n",
       "      <td>Nicolas</td>\n",
       "      <td>8338</td>\n",
       "      <td>1.23</td>\n",
       "      <td>2.40</td>\n",
       "    </tr>\n",
       "    <tr>\n",
       "      <th>17</th>\n",
       "      <td>6</td>\n",
       "      <td>Mayotte</td>\n",
       "      <td>Complet</td>\n",
       "      <td>92187</td>\n",
       "      <td>55024</td>\n",
       "      <td>59.69</td>\n",
       "      <td>37163</td>\n",
       "      <td>40.31</td>\n",
       "      <td>922</td>\n",
       "      <td>1.00</td>\n",
       "      <td>...</td>\n",
       "      <td>Philippe</td>\n",
       "      <td>328</td>\n",
       "      <td>0.36</td>\n",
       "      <td>0.94</td>\n",
       "      <td>M</td>\n",
       "      <td>DUPONT-AIGNAN</td>\n",
       "      <td>Nicolas</td>\n",
       "      <td>530</td>\n",
       "      <td>0.57</td>\n",
       "      <td>1.51</td>\n",
       "    </tr>\n",
       "  </tbody>\n",
       "</table>\n",
       "<p>18 rows × 89 columns</p>\n",
       "</div>"
      ],
      "text/plain": [
       "    Code de la région        Libellé de la région Etat saisie  Inscrits  \\\n",
       "0                  44                   Grand Est     Complet   3862920   \n",
       "1                  75          Nouvelle-Aquitaine     Complet   4463041   \n",
       "2                  84        Auvergne-Rhône-Alpes     Complet   5557535   \n",
       "3                  27     Bourgogne-Franche-Comté     Complet   1992409   \n",
       "4                  53                    Bretagne     Complet   2562061   \n",
       "5                  24         Centre-Val de Loire     Complet   1837328   \n",
       "6                  11               Île-de-France     Complet   7349284   \n",
       "7                  76                   Occitanie     Complet   4323929   \n",
       "8                  32             Hauts-de-France     Complet   4255350   \n",
       "9                  28                   Normandie     Complet   2413749   \n",
       "10                 52            Pays de la Loire     Complet   2832949   \n",
       "11                 93  Provence-Alpes-Côte d'Azur     Complet   3663871   \n",
       "12                 94                       Corse     Complet    243032   \n",
       "13                  1                  Guadeloupe     Complet    316023   \n",
       "14                  2                  Martinique     Complet    304594   \n",
       "15                  3                      Guyane     Complet    102993   \n",
       "16                  4                  La Réunion     Complet    675539   \n",
       "17                  6                     Mayotte     Complet     92187   \n",
       "\n",
       "    Abstentions  % Abs/Ins  Votants  % Vot/Ins  Blancs  % Blancs/Ins  ...  \\\n",
       "0       1008344      26.10  2854576      73.90   42255          1.09  ...   \n",
       "1        962499      21.57  3500542      78.43   53440          1.20  ...   \n",
       "2       1228490      22.10  4329045      77.90   70067          1.26  ...   \n",
       "3        456682      22.92  1535727      77.08   26392          1.32  ...   \n",
       "4        543414      21.21  2018647      78.79   31884          1.24  ...   \n",
       "5        459528      25.01  1377800      74.99   23216          1.26  ...   \n",
       "6       1760727      23.96  5588557      76.04   76616          1.04  ...   \n",
       "7        940541      21.75  3383388      78.25   47891          1.11  ...   \n",
       "8       1146209      26.94  3109141      73.06   42945          1.01  ...   \n",
       "9        590804      24.48  1822945      75.52   28947          1.20  ...   \n",
       "10       652018      23.02  2180931      76.98   38934          1.37  ...   \n",
       "11       959575      26.19  2704296      73.81   35917          0.98  ...   \n",
       "12        90629      37.29   152403      62.71    2593          1.07  ...   \n",
       "13       174592      55.25   141431      44.75    2719          0.86  ...   \n",
       "14       174588      57.32   130006      42.68    4001          1.31  ...   \n",
       "15        65754      63.84    37239      36.16     825          0.80  ...   \n",
       "16       313159      46.36   362380      53.64    7361          1.09  ...   \n",
       "17        55024      59.69    37163      40.31     922          1.00  ...   \n",
       "\n",
       "    Prénom_poutou  Voix_poutou  %Voix/Ins_poutou  %Voix/Exp_poutou  \\\n",
       "0        Philippe        22241              0.58              0.80   \n",
       "1        Philippe        32597              0.73              0.95   \n",
       "2        Philippe        30586              0.55              0.72   \n",
       "3        Philippe        12738              0.64              0.85   \n",
       "4        Philippe        19913              0.78              1.01   \n",
       "5        Philippe        11226              0.61              0.83   \n",
       "6        Philippe        33050              0.45              0.60   \n",
       "7        Philippe        23891              0.55              0.72   \n",
       "8        Philippe        21125              0.50              0.69   \n",
       "9        Philippe        16005              0.66              0.90   \n",
       "10       Philippe        18441              0.65              0.87   \n",
       "11       Philippe        16219              0.44              0.61   \n",
       "12       Philippe         1370              0.56              0.93   \n",
       "13       Philippe          713              0.23              0.53   \n",
       "14       Philippe          977              0.32              0.79   \n",
       "15       Philippe          462              0.45              1.29   \n",
       "16       Philippe         2705              0.40              0.78   \n",
       "17       Philippe          328              0.36              0.94   \n",
       "\n",
       "    Sexe_dupont_aignant  Nom_dupont_aignant  Prénom_dupont_aignant  \\\n",
       "0                     M       DUPONT-AIGNAN                Nicolas   \n",
       "1                     M       DUPONT-AIGNAN                Nicolas   \n",
       "2                     M       DUPONT-AIGNAN                Nicolas   \n",
       "3                     M       DUPONT-AIGNAN                Nicolas   \n",
       "4                     M       DUPONT-AIGNAN                Nicolas   \n",
       "5                     M       DUPONT-AIGNAN                Nicolas   \n",
       "6                     M       DUPONT-AIGNAN                Nicolas   \n",
       "7                     M       DUPONT-AIGNAN                Nicolas   \n",
       "8                     M       DUPONT-AIGNAN                Nicolas   \n",
       "9                     M       DUPONT-AIGNAN                Nicolas   \n",
       "10                    M       DUPONT-AIGNAN                Nicolas   \n",
       "11                    M       DUPONT-AIGNAN                Nicolas   \n",
       "12                    M       DUPONT-AIGNAN                Nicolas   \n",
       "13                    M       DUPONT-AIGNAN                Nicolas   \n",
       "14                    M       DUPONT-AIGNAN                Nicolas   \n",
       "15                    M       DUPONT-AIGNAN                Nicolas   \n",
       "16                    M       DUPONT-AIGNAN                Nicolas   \n",
       "17                    M       DUPONT-AIGNAN                Nicolas   \n",
       "\n",
       "   Voix_dupont_aignant %Voix/Ins_dupont_aignant %Voix/Exp_dupont_aignant  \n",
       "0                74916                     1.94                     2.68  \n",
       "1                67645                     1.52                     1.98  \n",
       "2                98446                     1.77                     2.33  \n",
       "3                38691                     1.94                     2.58  \n",
       "4                35116                     1.37                     1.78  \n",
       "5                31759                     1.73                     2.36  \n",
       "6                87331                     1.19                     1.59  \n",
       "7                63243                     1.46                     1.91  \n",
       "8                55386                     1.30                     1.82  \n",
       "9                38560                     1.60                     2.16  \n",
       "10               44215                     1.56                     2.08  \n",
       "11               60186                     1.64                     2.27  \n",
       "12                2589                     1.07                     1.76  \n",
       "13                2114                     0.67                     1.56  \n",
       "14                2989                     0.98                     2.43  \n",
       "15                 717                     0.70                     2.00  \n",
       "16                8338                     1.23                     2.40  \n",
       "17                 530                     0.57                     1.51  \n",
       "\n",
       "[18 rows x 89 columns]"
      ]
     },
     "execution_count": 179,
     "metadata": {},
     "output_type": "execute_result"
    }
   ],
   "source": [
    "#Renomme les colonnes associées aux résultats par candidat\n",
    "old_names = ['Sexe', 'Nom', 'Prénom', 'Voix',\n",
    "       '% Voix/Ins', '% Voix/Exp', 'Unnamed: 23', 'Unnamed: 24', 'Unnamed: 25',\n",
    "       'Unnamed: 26', 'Unnamed: 27', 'Unnamed: 28', 'Unnamed: 29',\n",
    "       'Unnamed: 30', 'Unnamed: 31', 'Unnamed: 32', 'Unnamed: 33',\n",
    "       'Unnamed: 34', 'Unnamed: 35', 'Unnamed: 36', 'Unnamed: 37',\n",
    "       'Unnamed: 38', 'Unnamed: 39', 'Unnamed: 40', 'Unnamed: 41',\n",
    "       'Unnamed: 42', 'Unnamed: 43', 'Unnamed: 44', 'Unnamed: 45',\n",
    "       'Unnamed: 46', 'Unnamed: 47', 'Unnamed: 48', 'Unnamed: 49',\n",
    "       'Unnamed: 50', 'Unnamed: 51', 'Unnamed: 52', 'Unnamed: 53',\n",
    "       'Unnamed: 54', 'Unnamed: 55', 'Unnamed: 56', 'Unnamed: 57',\n",
    "       'Unnamed: 58', 'Unnamed: 59', 'Unnamed: 60', 'Unnamed: 61',\n",
    "       'Unnamed: 62', 'Unnamed: 63', 'Unnamed: 64', 'Unnamed: 65',\n",
    "       'Unnamed: 66', 'Unnamed: 67', 'Unnamed: 68', 'Unnamed: 69',\n",
    "       'Unnamed: 70', 'Unnamed: 71', 'Unnamed: 72', 'Unnamed: 73',\n",
    "       'Unnamed: 74', 'Unnamed: 75', 'Unnamed: 76', 'Unnamed: 77',\n",
    "       'Unnamed: 78', 'Unnamed: 79', 'Unnamed: 80', 'Unnamed: 81',\n",
    "       'Unnamed: 82', 'Unnamed: 83', 'Unnamed: 84', 'Unnamed: 85',\n",
    "       'Unnamed: 86', 'Unnamed: 87', 'Unnamed: 88']\n",
    "candidats = ['arthaud', 'roussel', 'macron', 'lassalle', 'lepen', 'zemmour', 'melenchon', 'hidalgo', 'jadot', 'pecresse', 'poutou', 'dupont_aignant']\n",
    "labels = ['Sexe', 'Nom', 'Prénom', 'Voix', '%Voix/Ins', '%Voix/Exp']\n",
    "new_names = [l + '_' + c for c in candidats for l in labels]\n",
    "dict_rename = {old_names[i]: new_names[i] for i in range(len(new_names))}\n",
    "data.rename(columns = dict_rename, inplace=True)\n",
    "columns = data.columns\n",
    "data"
   ]
  },
  {
   "cell_type": "code",
   "execution_count": 238,
   "metadata": {},
   "outputs": [],
   "source": [
    "# load the shapefile with the defined CRS\n",
    "result_map = gpd.read_file(\"data/geodata/rВgions_2016.shp\")\n",
    "result_map[\"Code de la région\"]=[52,32,93,75,44,28,84,53,27,94,24,76,11 ]\n",
    "result_map[\"Code de la région\"]=result_map[\"Code de la région\"].astype(int).astype(str)\n",
    "data[\"Code de la région\"]=data[\"Code de la région\"].astype(int).astype(str)\n",
    "data = data.sort_values(by=\"Code de la région\")\n",
    "geo_data = pd.merge(data,result_map,on='Code de la région', how='left')\n",
    "geo_data =gpd.GeoDataFrame(geo_data)\n"
   ]
  },
  {
   "cell_type": "code",
   "execution_count": null,
   "metadata": {},
   "outputs": [
    {
     "data": {
      "application/vnd.plotly.v1+json": {
       "config": {
        "plotlyServerURL": "https://plot.ly"
       },
       "data": [
        {
         "alignmentgroup": "True",
         "hovertemplate": "x=%{x}<br>y=%{y}<extra></extra>",
         "legendgroup": "",
         "marker": {
          "color": "#636efa",
          "pattern": {
           "shape": ""
          }
         },
         "name": "",
         "offsetgroup": "",
         "orientation": "v",
         "showlegend": false,
         "textposition": "auto",
         "type": "bar",
         "x": [
          "Grand Est",
          "Nouvelle-Aquitaine",
          "Auvergne-Rhône-Alpes",
          "Bourgogne-Franche-Comté",
          "Bretagne",
          "Centre-Val de Loire",
          "Île-de-France",
          "Occitanie",
          "Hauts-de-France",
          "Normandie",
          "Pays de la Loire",
          "Provence-Alpes-Côte d'Azur",
          "Corse",
          "Guadeloupe",
          "Martinique",
          "Guyane",
          "La Réunion",
          "Mayotte"
         ],
         "xaxis": "x",
         "y": [
          26.099999999999994,
          21.569999999999993,
          22.099999999999994,
          22.92,
          21.209999999999994,
          25.010000000000005,
          23.959999999999994,
          21.75,
          26.939999999999998,
          24.480000000000004,
          23.019999999999996,
          26.189999999999998,
          37.29,
          55.25,
          57.32,
          63.84,
          46.36,
          59.69
         ],
         "yaxis": "y"
        }
       ],
       "layout": {
        "barmode": "relative",
        "legend": {
         "tracegroupgap": 0
        },
        "template": {
         "data": {
          "bar": [
           {
            "error_x": {
             "color": "#2a3f5f"
            },
            "error_y": {
             "color": "#2a3f5f"
            },
            "marker": {
             "line": {
              "color": "#E5ECF6",
              "width": 0.5
             },
             "pattern": {
              "fillmode": "overlay",
              "size": 10,
              "solidity": 0.2
             }
            },
            "type": "bar"
           }
          ],
          "barpolar": [
           {
            "marker": {
             "line": {
              "color": "#E5ECF6",
              "width": 0.5
             },
             "pattern": {
              "fillmode": "overlay",
              "size": 10,
              "solidity": 0.2
             }
            },
            "type": "barpolar"
           }
          ],
          "carpet": [
           {
            "aaxis": {
             "endlinecolor": "#2a3f5f",
             "gridcolor": "white",
             "linecolor": "white",
             "minorgridcolor": "white",
             "startlinecolor": "#2a3f5f"
            },
            "baxis": {
             "endlinecolor": "#2a3f5f",
             "gridcolor": "white",
             "linecolor": "white",
             "minorgridcolor": "white",
             "startlinecolor": "#2a3f5f"
            },
            "type": "carpet"
           }
          ],
          "choropleth": [
           {
            "colorbar": {
             "outlinewidth": 0,
             "ticks": ""
            },
            "type": "choropleth"
           }
          ],
          "contour": [
           {
            "colorbar": {
             "outlinewidth": 0,
             "ticks": ""
            },
            "colorscale": [
             [
              0,
              "#0d0887"
             ],
             [
              0.1111111111111111,
              "#46039f"
             ],
             [
              0.2222222222222222,
              "#7201a8"
             ],
             [
              0.3333333333333333,
              "#9c179e"
             ],
             [
              0.4444444444444444,
              "#bd3786"
             ],
             [
              0.5555555555555556,
              "#d8576b"
             ],
             [
              0.6666666666666666,
              "#ed7953"
             ],
             [
              0.7777777777777778,
              "#fb9f3a"
             ],
             [
              0.8888888888888888,
              "#fdca26"
             ],
             [
              1,
              "#f0f921"
             ]
            ],
            "type": "contour"
           }
          ],
          "contourcarpet": [
           {
            "colorbar": {
             "outlinewidth": 0,
             "ticks": ""
            },
            "type": "contourcarpet"
           }
          ],
          "heatmap": [
           {
            "colorbar": {
             "outlinewidth": 0,
             "ticks": ""
            },
            "colorscale": [
             [
              0,
              "#0d0887"
             ],
             [
              0.1111111111111111,
              "#46039f"
             ],
             [
              0.2222222222222222,
              "#7201a8"
             ],
             [
              0.3333333333333333,
              "#9c179e"
             ],
             [
              0.4444444444444444,
              "#bd3786"
             ],
             [
              0.5555555555555556,
              "#d8576b"
             ],
             [
              0.6666666666666666,
              "#ed7953"
             ],
             [
              0.7777777777777778,
              "#fb9f3a"
             ],
             [
              0.8888888888888888,
              "#fdca26"
             ],
             [
              1,
              "#f0f921"
             ]
            ],
            "type": "heatmap"
           }
          ],
          "heatmapgl": [
           {
            "colorbar": {
             "outlinewidth": 0,
             "ticks": ""
            },
            "colorscale": [
             [
              0,
              "#0d0887"
             ],
             [
              0.1111111111111111,
              "#46039f"
             ],
             [
              0.2222222222222222,
              "#7201a8"
             ],
             [
              0.3333333333333333,
              "#9c179e"
             ],
             [
              0.4444444444444444,
              "#bd3786"
             ],
             [
              0.5555555555555556,
              "#d8576b"
             ],
             [
              0.6666666666666666,
              "#ed7953"
             ],
             [
              0.7777777777777778,
              "#fb9f3a"
             ],
             [
              0.8888888888888888,
              "#fdca26"
             ],
             [
              1,
              "#f0f921"
             ]
            ],
            "type": "heatmapgl"
           }
          ],
          "histogram": [
           {
            "marker": {
             "pattern": {
              "fillmode": "overlay",
              "size": 10,
              "solidity": 0.2
             }
            },
            "type": "histogram"
           }
          ],
          "histogram2d": [
           {
            "colorbar": {
             "outlinewidth": 0,
             "ticks": ""
            },
            "colorscale": [
             [
              0,
              "#0d0887"
             ],
             [
              0.1111111111111111,
              "#46039f"
             ],
             [
              0.2222222222222222,
              "#7201a8"
             ],
             [
              0.3333333333333333,
              "#9c179e"
             ],
             [
              0.4444444444444444,
              "#bd3786"
             ],
             [
              0.5555555555555556,
              "#d8576b"
             ],
             [
              0.6666666666666666,
              "#ed7953"
             ],
             [
              0.7777777777777778,
              "#fb9f3a"
             ],
             [
              0.8888888888888888,
              "#fdca26"
             ],
             [
              1,
              "#f0f921"
             ]
            ],
            "type": "histogram2d"
           }
          ],
          "histogram2dcontour": [
           {
            "colorbar": {
             "outlinewidth": 0,
             "ticks": ""
            },
            "colorscale": [
             [
              0,
              "#0d0887"
             ],
             [
              0.1111111111111111,
              "#46039f"
             ],
             [
              0.2222222222222222,
              "#7201a8"
             ],
             [
              0.3333333333333333,
              "#9c179e"
             ],
             [
              0.4444444444444444,
              "#bd3786"
             ],
             [
              0.5555555555555556,
              "#d8576b"
             ],
             [
              0.6666666666666666,
              "#ed7953"
             ],
             [
              0.7777777777777778,
              "#fb9f3a"
             ],
             [
              0.8888888888888888,
              "#fdca26"
             ],
             [
              1,
              "#f0f921"
             ]
            ],
            "type": "histogram2dcontour"
           }
          ],
          "mesh3d": [
           {
            "colorbar": {
             "outlinewidth": 0,
             "ticks": ""
            },
            "type": "mesh3d"
           }
          ],
          "parcoords": [
           {
            "line": {
             "colorbar": {
              "outlinewidth": 0,
              "ticks": ""
             }
            },
            "type": "parcoords"
           }
          ],
          "pie": [
           {
            "automargin": true,
            "type": "pie"
           }
          ],
          "scatter": [
           {
            "fillpattern": {
             "fillmode": "overlay",
             "size": 10,
             "solidity": 0.2
            },
            "type": "scatter"
           }
          ],
          "scatter3d": [
           {
            "line": {
             "colorbar": {
              "outlinewidth": 0,
              "ticks": ""
             }
            },
            "marker": {
             "colorbar": {
              "outlinewidth": 0,
              "ticks": ""
             }
            },
            "type": "scatter3d"
           }
          ],
          "scattercarpet": [
           {
            "marker": {
             "colorbar": {
              "outlinewidth": 0,
              "ticks": ""
             }
            },
            "type": "scattercarpet"
           }
          ],
          "scattergeo": [
           {
            "marker": {
             "colorbar": {
              "outlinewidth": 0,
              "ticks": ""
             }
            },
            "type": "scattergeo"
           }
          ],
          "scattergl": [
           {
            "marker": {
             "colorbar": {
              "outlinewidth": 0,
              "ticks": ""
             }
            },
            "type": "scattergl"
           }
          ],
          "scattermapbox": [
           {
            "marker": {
             "colorbar": {
              "outlinewidth": 0,
              "ticks": ""
             }
            },
            "type": "scattermapbox"
           }
          ],
          "scatterpolar": [
           {
            "marker": {
             "colorbar": {
              "outlinewidth": 0,
              "ticks": ""
             }
            },
            "type": "scatterpolar"
           }
          ],
          "scatterpolargl": [
           {
            "marker": {
             "colorbar": {
              "outlinewidth": 0,
              "ticks": ""
             }
            },
            "type": "scatterpolargl"
           }
          ],
          "scatterternary": [
           {
            "marker": {
             "colorbar": {
              "outlinewidth": 0,
              "ticks": ""
             }
            },
            "type": "scatterternary"
           }
          ],
          "surface": [
           {
            "colorbar": {
             "outlinewidth": 0,
             "ticks": ""
            },
            "colorscale": [
             [
              0,
              "#0d0887"
             ],
             [
              0.1111111111111111,
              "#46039f"
             ],
             [
              0.2222222222222222,
              "#7201a8"
             ],
             [
              0.3333333333333333,
              "#9c179e"
             ],
             [
              0.4444444444444444,
              "#bd3786"
             ],
             [
              0.5555555555555556,
              "#d8576b"
             ],
             [
              0.6666666666666666,
              "#ed7953"
             ],
             [
              0.7777777777777778,
              "#fb9f3a"
             ],
             [
              0.8888888888888888,
              "#fdca26"
             ],
             [
              1,
              "#f0f921"
             ]
            ],
            "type": "surface"
           }
          ],
          "table": [
           {
            "cells": {
             "fill": {
              "color": "#EBF0F8"
             },
             "line": {
              "color": "white"
             }
            },
            "header": {
             "fill": {
              "color": "#C8D4E3"
             },
             "line": {
              "color": "white"
             }
            },
            "type": "table"
           }
          ]
         },
         "layout": {
          "annotationdefaults": {
           "arrowcolor": "#2a3f5f",
           "arrowhead": 0,
           "arrowwidth": 1
          },
          "autotypenumbers": "strict",
          "coloraxis": {
           "colorbar": {
            "outlinewidth": 0,
            "ticks": ""
           }
          },
          "colorscale": {
           "diverging": [
            [
             0,
             "#8e0152"
            ],
            [
             0.1,
             "#c51b7d"
            ],
            [
             0.2,
             "#de77ae"
            ],
            [
             0.3,
             "#f1b6da"
            ],
            [
             0.4,
             "#fde0ef"
            ],
            [
             0.5,
             "#f7f7f7"
            ],
            [
             0.6,
             "#e6f5d0"
            ],
            [
             0.7,
             "#b8e186"
            ],
            [
             0.8,
             "#7fbc41"
            ],
            [
             0.9,
             "#4d9221"
            ],
            [
             1,
             "#276419"
            ]
           ],
           "sequential": [
            [
             0,
             "#0d0887"
            ],
            [
             0.1111111111111111,
             "#46039f"
            ],
            [
             0.2222222222222222,
             "#7201a8"
            ],
            [
             0.3333333333333333,
             "#9c179e"
            ],
            [
             0.4444444444444444,
             "#bd3786"
            ],
            [
             0.5555555555555556,
             "#d8576b"
            ],
            [
             0.6666666666666666,
             "#ed7953"
            ],
            [
             0.7777777777777778,
             "#fb9f3a"
            ],
            [
             0.8888888888888888,
             "#fdca26"
            ],
            [
             1,
             "#f0f921"
            ]
           ],
           "sequentialminus": [
            [
             0,
             "#0d0887"
            ],
            [
             0.1111111111111111,
             "#46039f"
            ],
            [
             0.2222222222222222,
             "#7201a8"
            ],
            [
             0.3333333333333333,
             "#9c179e"
            ],
            [
             0.4444444444444444,
             "#bd3786"
            ],
            [
             0.5555555555555556,
             "#d8576b"
            ],
            [
             0.6666666666666666,
             "#ed7953"
            ],
            [
             0.7777777777777778,
             "#fb9f3a"
            ],
            [
             0.8888888888888888,
             "#fdca26"
            ],
            [
             1,
             "#f0f921"
            ]
           ]
          },
          "colorway": [
           "#636efa",
           "#EF553B",
           "#00cc96",
           "#ab63fa",
           "#FFA15A",
           "#19d3f3",
           "#FF6692",
           "#B6E880",
           "#FF97FF",
           "#FECB52"
          ],
          "font": {
           "color": "#2a3f5f"
          },
          "geo": {
           "bgcolor": "white",
           "lakecolor": "white",
           "landcolor": "#E5ECF6",
           "showlakes": true,
           "showland": true,
           "subunitcolor": "white"
          },
          "hoverlabel": {
           "align": "left"
          },
          "hovermode": "closest",
          "mapbox": {
           "style": "light"
          },
          "paper_bgcolor": "white",
          "plot_bgcolor": "#E5ECF6",
          "polar": {
           "angularaxis": {
            "gridcolor": "white",
            "linecolor": "white",
            "ticks": ""
           },
           "bgcolor": "#E5ECF6",
           "radialaxis": {
            "gridcolor": "white",
            "linecolor": "white",
            "ticks": ""
           }
          },
          "scene": {
           "xaxis": {
            "backgroundcolor": "#E5ECF6",
            "gridcolor": "white",
            "gridwidth": 2,
            "linecolor": "white",
            "showbackground": true,
            "ticks": "",
            "zerolinecolor": "white"
           },
           "yaxis": {
            "backgroundcolor": "#E5ECF6",
            "gridcolor": "white",
            "gridwidth": 2,
            "linecolor": "white",
            "showbackground": true,
            "ticks": "",
            "zerolinecolor": "white"
           },
           "zaxis": {
            "backgroundcolor": "#E5ECF6",
            "gridcolor": "white",
            "gridwidth": 2,
            "linecolor": "white",
            "showbackground": true,
            "ticks": "",
            "zerolinecolor": "white"
           }
          },
          "shapedefaults": {
           "line": {
            "color": "#2a3f5f"
           }
          },
          "ternary": {
           "aaxis": {
            "gridcolor": "white",
            "linecolor": "white",
            "ticks": ""
           },
           "baxis": {
            "gridcolor": "white",
            "linecolor": "white",
            "ticks": ""
           },
           "bgcolor": "#E5ECF6",
           "caxis": {
            "gridcolor": "white",
            "linecolor": "white",
            "ticks": ""
           }
          },
          "title": {
           "x": 0.05
          },
          "xaxis": {
           "automargin": true,
           "gridcolor": "white",
           "linecolor": "white",
           "ticks": "",
           "title": {
            "standoff": 15
           },
           "zerolinecolor": "white",
           "zerolinewidth": 2
          },
          "yaxis": {
           "automargin": true,
           "gridcolor": "white",
           "linecolor": "white",
           "ticks": "",
           "title": {
            "standoff": 15
           },
           "zerolinecolor": "white",
           "zerolinewidth": 2
          }
         }
        },
        "title": {
         "text": "% Abstention "
        },
        "xaxis": {
         "anchor": "y",
         "domain": [
          0,
          1
         ],
         "title": {
          "text": "x"
         }
        },
        "yaxis": {
         "anchor": "x",
         "domain": [
          0,
          1
         ],
         "title": {
          "text": "y"
         }
        }
       }
      }
     },
     "metadata": {},
     "output_type": "display_data"
    }
   ],
   "source": [
    "regions = data['Libellé de la région'].to_numpy()\n",
    "#plt.bar(regions, 100 - data['% Vot/Ins'].to_numpy())\n",
    "new_y=  (100 - data['% Vot/Ins']).to_numpy()\n",
    "# plt.xticks(rotation=90);\n",
    "# plt.title('Abstention %', fontweight=\"bold\")\n",
    "\n",
    "px.bar(x=regions, y=new_y, title=\"% Abstention \")\n"
   ]
  },
  {
   "cell_type": "code",
   "execution_count": 240,
   "metadata": {},
   "outputs": [
    {
     "data": {
      "image/png": "[encoded data removed]",
      "text/plain": [
       "<Figure size 1000x700 with 2 Axes>"
      ]
     },
     "metadata": {},
     "output_type": "display_data"
    }
   ],
   "source": [
    "ax = geo_data.plot(column=\"% Abs/Ins\",\n",
    "    legend=True,\n",
    "    figsize=(10, 7),    \n",
    "    )\n",
    "ax.set_title(\"Pourcentage of absence per region\")\n",
    "ax.set_axis_off()"
   ]
  },
  {
   "cell_type": "code",
   "execution_count": 241,
   "metadata": {},
   "outputs": [
    {
     "data": {
      "text/plain": [
       "12"
      ]
     },
     "execution_count": 241,
     "metadata": {},
     "output_type": "execute_result"
    }
   ],
   "source": [
    "len(candidats)"
   ]
  },
  {
   "cell_type": "code",
   "execution_count": 249,
   "metadata": {},
   "outputs": [
    {
     "data": {
      "image/png": "[encoded data removed]",
      "text/plain": [
       "<Figure size 1200x800 with 24 Axes>"
      ]
     },
     "metadata": {},
     "output_type": "display_data"
    }
   ],
   "source": [
    "fig, axes = plt.subplots(3,4)\n",
    "fig.set_size_inches((12,8))\n",
    "labels = ['%Voix/Ins' + '_' + c for c in candidats]\n",
    "\n",
    "for i, ax in enumerate(axes.flatten()):\n",
    "    geo_data.plot(ax= ax, column=\"%Voix/Ins_\"+candidats[i],\n",
    "        legend=True,\n",
    "        figsize=(10, 7),    \n",
    "        )\n",
    "    ax.set_title(labels[i],fontsize=10)\n",
    "    ax.set_axis_off()"
   ]
  },
  {
   "cell_type": "code",
   "execution_count": null,
   "metadata": {},
   "outputs": [
    {
     "data": {
      "application/vnd.plotly.v1+json": {
       "config": {
        "plotlyServerURL": "https://plot.ly"
       },
       "data": [
        {
         "domain": {
          "x": [
           0,
           1
          ],
          "y": [
           0,
           1
          ]
         },
         "hovertemplate": "label=%{label}<br>value=%{value}<extra></extra>",
         "labels": [
          "arthaud",
          "roussel",
          "macron",
          "lassalle",
          "lepen",
          "zemmour",
          "melenchon",
          "hidalgo",
          "jadot",
          "pecresse",
          "poutou",
          "dupont_aignant",
          "abstention",
          "blanc"
         ],
         "legendgroup": "",
         "name": "",
         "showlegend": true,
         "type": "pie",
         "values": [
          0.49,
          1.59,
          24.99,
          1.93,
          15.6,
          4.04,
          14.44,
          1.53,
          4.52,
          3.77,
          0.65,
          1.56,
          23.02,
          1.37
         ]
        }
       ],
       "layout": {
        "legend": {
         "tracegroupgap": 0
        },
        "template": {
         "data": {
          "bar": [
           {
            "error_x": {
             "color": "#2a3f5f"
            },
            "error_y": {
             "color": "#2a3f5f"
            },
            "marker": {
             "line": {
              "color": "#E5ECF6",
              "width": 0.5
             },
             "pattern": {
              "fillmode": "overlay",
              "size": 10,
              "solidity": 0.2
             }
            },
            "type": "bar"
           }
          ],
          "barpolar": [
           {
            "marker": {
             "line": {
              "color": "#E5ECF6",
              "width": 0.5
             },
             "pattern": {
              "fillmode": "overlay",
              "size": 10,
              "solidity": 0.2
             }
            },
            "type": "barpolar"
           }
          ],
          "carpet": [
           {
            "aaxis": {
             "endlinecolor": "#2a3f5f",
             "gridcolor": "white",
             "linecolor": "white",
             "minorgridcolor": "white",
             "startlinecolor": "#2a3f5f"
            },
            "baxis": {
             "endlinecolor": "#2a3f5f",
             "gridcolor": "white",
             "linecolor": "white",
             "minorgridcolor": "white",
             "startlinecolor": "#2a3f5f"
            },
            "type": "carpet"
           }
          ],
          "choropleth": [
           {
            "colorbar": {
             "outlinewidth": 0,
             "ticks": ""
            },
            "type": "choropleth"
           }
          ],
          "contour": [
           {
            "colorbar": {
             "outlinewidth": 0,
             "ticks": ""
            },
            "colorscale": [
             [
              0,
              "#0d0887"
             ],
             [
              0.1111111111111111,
              "#46039f"
             ],
             [
              0.2222222222222222,
              "#7201a8"
             ],
             [
              0.3333333333333333,
              "#9c179e"
             ],
             [
              0.4444444444444444,
              "#bd3786"
             ],
             [
              0.5555555555555556,
              "#d8576b"
             ],
             [
              0.6666666666666666,
              "#ed7953"
             ],
             [
              0.7777777777777778,
              "#fb9f3a"
             ],
             [
              0.8888888888888888,
              "#fdca26"
             ],
             [
              1,
              "#f0f921"
             ]
            ],
            "type": "contour"
           }
          ],
          "contourcarpet": [
           {
            "colorbar": {
             "outlinewidth": 0,
             "ticks": ""
            },
            "type": "contourcarpet"
           }
          ],
          "heatmap": [
           {
            "colorbar": {
             "outlinewidth": 0,
             "ticks": ""
            },
            "colorscale": [
             [
              0,
              "#0d0887"
             ],
             [
              0.1111111111111111,
              "#46039f"
             ],
             [
              0.2222222222222222,
              "#7201a8"
             ],
             [
              0.3333333333333333,
              "#9c179e"
             ],
             [
              0.4444444444444444,
              "#bd3786"
             ],
             [
              0.5555555555555556,
              "#d8576b"
             ],
             [
              0.6666666666666666,
              "#ed7953"
             ],
             [
              0.7777777777777778,
              "#fb9f3a"
             ],
             [
              0.8888888888888888,
              "#fdca26"
             ],
             [
              1,
              "#f0f921"
             ]
            ],
            "type": "heatmap"
           }
          ],
          "heatmapgl": [
           {
            "colorbar": {
             "outlinewidth": 0,
             "ticks": ""
            },
            "colorscale": [
             [
              0,
              "#0d0887"
             ],
             [
              0.1111111111111111,
              "#46039f"
             ],
             [
              0.2222222222222222,
              "#7201a8"
             ],
             [
              0.3333333333333333,
              "#9c179e"
             ],
             [
              0.4444444444444444,
              "#bd3786"
             ],
             [
              0.5555555555555556,
              "#d8576b"
             ],
             [
              0.6666666666666666,
              "#ed7953"
             ],
             [
              0.7777777777777778,
              "#fb9f3a"
             ],
             [
              0.8888888888888888,
              "#fdca26"
             ],
             [
              1,
              "#f0f921"
             ]
            ],
            "type": "heatmapgl"
           }
          ],
          "histogram": [
           {
            "marker": {
             "pattern": {
              "fillmode": "overlay",
              "size": 10,
              "solidity": 0.2
             }
            },
            "type": "histogram"
           }
          ],
          "histogram2d": [
           {
            "colorbar": {
             "outlinewidth": 0,
             "ticks": ""
            },
            "colorscale": [
             [
              0,
              "#0d0887"
             ],
             [
              0.1111111111111111,
              "#46039f"
             ],
             [
              0.2222222222222222,
              "#7201a8"
             ],
             [
              0.3333333333333333,
              "#9c179e"
             ],
             [
              0.4444444444444444,
              "#bd3786"
             ],
             [
              0.5555555555555556,
              "#d8576b"
             ],
             [
              0.6666666666666666,
              "#ed7953"
             ],
             [
              0.7777777777777778,
              "#fb9f3a"
             ],
             [
              0.8888888888888888,
              "#fdca26"
             ],
             [
              1,
              "#f0f921"
             ]
            ],
            "type": "histogram2d"
           }
          ],
          "histogram2dcontour": [
           {
            "colorbar": {
             "outlinewidth": 0,
             "ticks": ""
            },
            "colorscale": [
             [
              0,
              "#0d0887"
             ],
             [
              0.1111111111111111,
              "#46039f"
             ],
             [
              0.2222222222222222,
              "#7201a8"
             ],
             [
              0.3333333333333333,
              "#9c179e"
             ],
             [
              0.4444444444444444,
              "#bd3786"
             ],
             [
              0.5555555555555556,
              "#d8576b"
             ],
             [
              0.6666666666666666,
              "#ed7953"
             ],
             [
              0.7777777777777778,
              "#fb9f3a"
             ],
             [
              0.8888888888888888,
              "#fdca26"
             ],
             [
              1,
              "#f0f921"
             ]
            ],
            "type": "histogram2dcontour"
           }
          ],
          "mesh3d": [
           {
            "colorbar": {
             "outlinewidth": 0,
             "ticks": ""
            },
            "type": "mesh3d"
           }
          ],
          "parcoords": [
           {
            "line": {
             "colorbar": {
              "outlinewidth": 0,
              "ticks": ""
             }
            },
            "type": "parcoords"
           }
          ],
          "pie": [
           {
            "automargin": true,
            "type": "pie"
           }
          ],
          "scatter": [
           {
            "fillpattern": {
             "fillmode": "overlay",
             "size": 10,
             "solidity": 0.2
            },
            "type": "scatter"
           }
          ],
          "scatter3d": [
           {
            "line": {
             "colorbar": {
              "outlinewidth": 0,
              "ticks": ""
             }
            },
            "marker": {
             "colorbar": {
              "outlinewidth": 0,
              "ticks": ""
             }
            },
            "type": "scatter3d"
           }
          ],
          "scattercarpet": [
           {
            "marker": {
             "colorbar": {
              "outlinewidth": 0,
              "ticks": ""
             }
            },
            "type": "scattercarpet"
           }
          ],
          "scattergeo": [
           {
            "marker": {
             "colorbar": {
              "outlinewidth": 0,
              "ticks": ""
             }
            },
            "type": "scattergeo"
           }
          ],
          "scattergl": [
           {
            "marker": {
             "colorbar": {
              "outlinewidth": 0,
              "ticks": ""
             }
            },
            "type": "scattergl"
           }
          ],
          "scattermapbox": [
           {
            "marker": {
             "colorbar": {
              "outlinewidth": 0,
              "ticks": ""
             }
            },
            "type": "scattermapbox"
           }
          ],
          "scatterpolar": [
           {
            "marker": {
             "colorbar": {
              "outlinewidth": 0,
              "ticks": ""
             }
            },
            "type": "scatterpolar"
           }
          ],
          "scatterpolargl": [
           {
            "marker": {
             "colorbar": {
              "outlinewidth": 0,
              "ticks": ""
             }
            },
            "type": "scatterpolargl"
           }
          ],
          "scatterternary": [
           {
            "marker": {
             "colorbar": {
              "outlinewidth": 0,
              "ticks": ""
             }
            },
            "type": "scatterternary"
           }
          ],
          "surface": [
           {
            "colorbar": {
             "outlinewidth": 0,
             "ticks": ""
            },
            "colorscale": [
             [
              0,
              "#0d0887"
             ],
             [
              0.1111111111111111,
              "#46039f"
             ],
             [
              0.2222222222222222,
              "#7201a8"
             ],
             [
              0.3333333333333333,
              "#9c179e"
             ],
             [
              0.4444444444444444,
              "#bd3786"
             ],
             [
              0.5555555555555556,
              "#d8576b"
             ],
             [
              0.6666666666666666,
              "#ed7953"
             ],
             [
              0.7777777777777778,
              "#fb9f3a"
             ],
             [
              0.8888888888888888,
              "#fdca26"
             ],
             [
              1,
              "#f0f921"
             ]
            ],
            "type": "surface"
           }
          ],
          "table": [
           {
            "cells": {
             "fill": {
              "color": "#EBF0F8"
             },
             "line": {
              "color": "white"
             }
            },
            "header": {
             "fill": {
              "color": "#C8D4E3"
             },
             "line": {
              "color": "white"
             }
            },
            "type": "table"
           }
          ]
         },
         "layout": {
          "annotationdefaults": {
           "arrowcolor": "#2a3f5f",
           "arrowhead": 0,
           "arrowwidth": 1
          },
          "autotypenumbers": "strict",
          "coloraxis": {
           "colorbar": {
            "outlinewidth": 0,
            "ticks": ""
           }
          },
          "colorscale": {
           "diverging": [
            [
             0,
             "#8e0152"
            ],
            [
             0.1,
             "#c51b7d"
            ],
            [
             0.2,
             "#de77ae"
            ],
            [
             0.3,
             "#f1b6da"
            ],
            [
             0.4,
             "#fde0ef"
            ],
            [
             0.5,
             "#f7f7f7"
            ],
            [
             0.6,
             "#e6f5d0"
            ],
            [
             0.7,
             "#b8e186"
            ],
            [
             0.8,
             "#7fbc41"
            ],
            [
             0.9,
             "#4d9221"
            ],
            [
             1,
             "#276419"
            ]
           ],
           "sequential": [
            [
             0,
             "#0d0887"
            ],
            [
             0.1111111111111111,
             "#46039f"
            ],
            [
             0.2222222222222222,
             "#7201a8"
            ],
            [
             0.3333333333333333,
             "#9c179e"
            ],
            [
             0.4444444444444444,
             "#bd3786"
            ],
            [
             0.5555555555555556,
             "#d8576b"
            ],
            [
             0.6666666666666666,
             "#ed7953"
            ],
            [
             0.7777777777777778,
             "#fb9f3a"
            ],
            [
             0.8888888888888888,
             "#fdca26"
            ],
            [
             1,
             "#f0f921"
            ]
           ],
           "sequentialminus": [
            [
             0,
             "#0d0887"
            ],
            [
             0.1111111111111111,
             "#46039f"
            ],
            [
             0.2222222222222222,
             "#7201a8"
            ],
            [
             0.3333333333333333,
             "#9c179e"
            ],
            [
             0.4444444444444444,
             "#bd3786"
            ],
            [
             0.5555555555555556,
             "#d8576b"
            ],
            [
             0.6666666666666666,
             "#ed7953"
            ],
            [
             0.7777777777777778,
             "#fb9f3a"
            ],
            [
             0.8888888888888888,
             "#fdca26"
            ],
            [
             1,
             "#f0f921"
            ]
           ]
          },
          "colorway": [
           "#636efa",
           "#EF553B",
           "#00cc96",
           "#ab63fa",
           "#FFA15A",
           "#19d3f3",
           "#FF6692",
           "#B6E880",
           "#FF97FF",
           "#FECB52"
          ],
          "font": {
           "color": "#2a3f5f"
          },
          "geo": {
           "bgcolor": "white",
           "lakecolor": "white",
           "landcolor": "#E5ECF6",
           "showlakes": true,
           "showland": true,
           "subunitcolor": "white"
          },
          "hoverlabel": {
           "align": "left"
          },
          "hovermode": "closest",
          "mapbox": {
           "style": "light"
          },
          "paper_bgcolor": "white",
          "plot_bgcolor": "#E5ECF6",
          "polar": {
           "angularaxis": {
            "gridcolor": "white",
            "linecolor": "white",
            "ticks": ""
           },
           "bgcolor": "#E5ECF6",
           "radialaxis": {
            "gridcolor": "white",
            "linecolor": "white",
            "ticks": ""
           }
          },
          "scene": {
           "xaxis": {
            "backgroundcolor": "#E5ECF6",
            "gridcolor": "white",
            "gridwidth": 2,
            "linecolor": "white",
            "showbackground": true,
            "ticks": "",
            "zerolinecolor": "white"
           },
           "yaxis": {
            "backgroundcolor": "#E5ECF6",
            "gridcolor": "white",
            "gridwidth": 2,
            "linecolor": "white",
            "showbackground": true,
            "ticks": "",
            "zerolinecolor": "white"
           },
           "zaxis": {
            "backgroundcolor": "#E5ECF6",
            "gridcolor": "white",
            "gridwidth": 2,
            "linecolor": "white",
            "showbackground": true,
            "ticks": "",
            "zerolinecolor": "white"
           }
          },
          "shapedefaults": {
           "line": {
            "color": "#2a3f5f"
           }
          },
          "ternary": {
           "aaxis": {
            "gridcolor": "white",
            "linecolor": "white",
            "ticks": ""
           },
           "baxis": {
            "gridcolor": "white",
            "linecolor": "white",
            "ticks": ""
           },
           "bgcolor": "#E5ECF6",
           "caxis": {
            "gridcolor": "white",
            "linecolor": "white",
            "ticks": ""
           }
          },
          "title": {
           "x": 0.05
          },
          "xaxis": {
           "automargin": true,
           "gridcolor": "white",
           "linecolor": "white",
           "ticks": "",
           "title": {
            "standoff": 15
           },
           "zerolinecolor": "white",
           "zerolinewidth": 2
          },
          "yaxis": {
           "automargin": true,
           "gridcolor": "white",
           "linecolor": "white",
           "ticks": "",
           "title": {
            "standoff": 15
           },
           "zerolinecolor": "white",
           "zerolinewidth": 2
          }
         }
        },
        "title": {
         "text": "Visualisation de la répartition des votes pour une région"
        }
       }
      }
     },
     "metadata": {},
     "output_type": "display_data"
    }
   ],
   "source": [
    "#Visualisation de la répartition des votes pour une région\n",
    "\n",
    "code_région = 52 #Code de la région à étudier\n",
    "\n",
    "labels = ['%Voix/Ins' + '_' + c for c in candidats]\n",
    "labels.append('% Abs/Ins')\n",
    "labels.append('% Blancs/Ins')\n",
    "subdata = data.loc[data['Code de la région'] == code_région]\n",
    "subdata = subdata[labels]\n",
    "y = subdata.to_numpy()[0] #La somme des % devrait faire ~100\n",
    "\n",
    "labels1 = candidats + ['abstention', 'blanc']\n",
    "# fig, ax = plt.subplots(figsize = (8,8))\n",
    "c = list(mcolors.TABLEAU_COLORS) + ['magenta', 'turquoise', 'yellow', 'lightgrey']\n",
    "#ax.pie(y, labels=labels1, autopct='%1.1f%%', colors = c);\n",
    "\n",
    "fig = px.pie(values=y, names=labels1, title='Visualisation de la répartition des votes pour une région')\n",
    "fig.show()\n"
   ]
  },
  {
   "cell_type": "code",
   "execution_count": null,
   "metadata": {},
   "outputs": [
    {
     "data": {
      "image/png": "[encoded data removed]",
      "text/plain": [
       "<Figure size 640x480 with 1 Axes>"
      ]
     },
     "metadata": {},
     "output_type": "display_data"
    }
   ],
   "source": [
    "#Clustering hierarchique pour le plaisir\n",
    "from scipy.cluster.hierarchy import dendrogram, linkage\n",
    "\n",
    "votes = ['%Voix/Exp' + '_' + c for c in candidats]\n",
    "labels = data['Libellé de la région'].to_numpy()\n",
    "subdata1 = data[votes].to_numpy()\n",
    "Z = linkage(y = subdata1, method='centroid', metric='euclidean');\n",
    "dendrogram(Z, labels = labels, leaf_rotation = 90);"
   ]
  },
  {
   "attachments": {},
   "cell_type": "markdown",
   "metadata": {},
   "source": [
    "Le résultat semble cohérent étant donné que des régions d'outre mer comme la Martinique et la Guyanne ont voté en grande majorité Mélenchon, là où des régions comme le Grand Est et Bourgogne-Franche-Comté ont légèrement favorisé Lepen. Les Pays de la Loire et la Bretagne quant à eux ont voté Macron en majorité et se retouvent ainsi associé au début du dendrogramme.\n",
    "\n",
    "Pour la suite, commençons par réaliser un clustering avec 3 clusters correspondant aux 3 candidats ayant obtenu le plus de suffrage : Macron, Lepen (+Zemmour?) et Mélenchon."
   ]
  },
  {
   "cell_type": "code",
   "execution_count": null,
   "metadata": {},
   "outputs": [
    {
     "name": "stdout",
     "output_type": "stream",
     "text": [
      "[0 0 0 0 0 0 0 0 0 0 0 0 0 1 1 1 1 2]\n"
     ]
    }
   ],
   "source": [
    "from sklearn.cluster import AgglomerativeClustering\n",
    "\n",
    "hierarchical_cluster = AgglomerativeClustering(n_clusters=3, affinity='euclidean', linkage='ward')\n",
    "clusters = hierarchical_cluster.fit_predict(subdata1)\n",
    "\n",
    "print(clusters)"
   ]
  },
  {
   "attachments": {},
   "cell_type": "markdown",
   "metadata": {},
   "source": [
    "Avec 3 clusters, le clustering hiérarchique ci-dessus a tendance à associer toutes les régions de France métropolitaine ensemble (cluster 0) puisque quel que soit le résultat, le % des voix exprimées en faveur de Macron, Lepen et Mélanchon sont plutôt équilibrés lorsqu'on les compare avec ceux des autres clusters.\n",
    "En effet, les régions d'outre mer du cluster 1 ont voté en grande majorité Mélenchon, celle du cluster 2 Lepen.\n",
    "\n",
    "Les régions d'outre mer de par leur résultats extrêmes (au sens des %) poussent les régions de France Métropolitaine à être dans le même cluster, alors que celles-ci présentent d'importantes différences dans les votes.  \n",
    "C'est d'autant plus problématique que les régions d'outre mer ne représentent qu'une petite part des électeurs : par exemple, les résultats de la Guadeloupe, aussi majoritaires soient-ils, ne constituent que 300000 électeurs et ont évidemment moins d'impact sur l'élection que les 7 millions d'électeurs en île-de-France.  \n",
    "Pour la suite, il sera donc important de pondérer l'importance des régions d'outre mer dans la construction du clustering."
   ]
  },
  {
   "attachments": {},
   "cell_type": "markdown",
   "metadata": {},
   "source": [
    "# 2. Gaussian Mixture Model"
   ]
  }
 ],
 "metadata": {
  "kernelspec": {
   "display_name": "data-challenge",
   "language": "python",
   "name": "python3"
  },
  "language_info": {
   "codemirror_mode": {
    "name": "ipython",
    "version": 3
   },
   "file_extension": ".py",
   "mimetype": "text/x-python",
   "name": "python",
   "nbconvert_exporter": "python",
   "pygments_lexer": "ipython3",
   "version": "3.8.15"
  },
  "orig_nbformat": 4,
  "vscode": {
   "interpreter": {
    "hash": "7cad879572fc86dfe65b3e43b153c561e79ca25c5ffe8434d36e9a73cfcff219"
   }
  }
 },
 "nbformat": 4,
 "nbformat_minor": 2
}
